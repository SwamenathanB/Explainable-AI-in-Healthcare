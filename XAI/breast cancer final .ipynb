{
 "cells": [
  {
   "cell_type": "code",
   "execution_count": 26,
   "id": "f973fa04",
   "metadata": {},
   "outputs": [
    {
     "data": {
      "text/plain": [
       "RandomForestClassifier(random_state=42)"
      ]
     },
     "execution_count": 26,
     "metadata": {},
     "output_type": "execute_result"
    }
   ],
   "source": [
    "import pandas as pd\n",
    "import shap\n",
    "from sklearn.ensemble import RandomForestClassifier\n",
    "from sklearn.model_selection import train_test_split\n",
    "import matplotlib.pyplot as plt\n",
    "\n",
    "# Load the breast cancer Wisconsin dataset\n",
    "url = \"https://archive.ics.uci.edu/ml/machine-learning-databases/breast-cancer-wisconsin/wdbc.data\"\n",
    "names = ['id', 'diagnosis', 'mean_radius', 'mean_texture', 'mean_perimeter', 'mean_area', 'mean_smoothness', 'mean_compactness', 'mean_concavity', 'mean_concave_points', 'mean_symmetry', 'mean_fractal_dimension', 'se_radius', 'se_texture', 'se_perimeter', 'se_area', 'se_smoothness', 'se_compactness', 'se_concavity', 'se_concave_points', 'se_symmetry', 'se_fractal_dimension', 'worst_radius', 'worst_texture', 'worst_perimeter', 'worst_area', 'worst_smoothness', 'worst_compactness', 'worst_concavity', 'worst_concave_points', 'worst_symmetry', 'worst_fractal_dimension']\n",
    "df = pd.read_csv(url, names=names)\n",
    "\n",
    "# Select only the desired columns\n",
    "X = df[['mean_concavity', 'mean_perimeter', 'mean_area', 'mean_radius', 'worst_perimeter']]\n",
    "y = df['diagnosis']\n",
    "\n",
    "# Split the data into training and testing sets\n",
    "X_train, X_test, y_train, y_test = train_test_split(X, y, test_size=0.3, random_state=42)\n",
    "\n",
    "# Train a random forest classifier on the training data\n",
    "rfc = RandomForestClassifier(n_estimators=100, random_state=42)\n",
    "rfc.fit(X_train, y_train)\n"
   ]
  },
  {
   "cell_type": "code",
   "execution_count": 27,
   "id": "aec406b4",
   "metadata": {},
   "outputs": [
    {
     "name": "stdout",
     "output_type": "stream",
     "text": [
      "Enter the concavity mean: 0.15\n",
      "Enter the perimeter mean: 101.2\n",
      "Enter the area mean: 750\n",
      "Enter the radius mean: 15\n",
      "Enter the worst perimeter: 150\n"
     ]
    }
   ],
   "source": [
    "# Prompt the user to enter the values of the selected features\n",
    "concavity_mean = float(input(\"Enter the concavity mean: \"))\n",
    "perimeter_mean = float(input(\"Enter the perimeter mean: \"))\n",
    "area_mean = float(input(\"Enter the area mean: \"))\n",
    "radius_mean = float(input(\"Enter the radius mean: \"))\n",
    "perimeter_worst = float(input(\"Enter the worst perimeter: \"))\n",
    "\n",
    "# Create a DataFrame with the user input data\n",
    "new_data = pd.DataFrame({'mean_concavity': [concavity_mean],\n",
    "                         'mean_perimeter': [perimeter_mean],\n",
    "                         'mean_area': [area_mean],\n",
    "                         'mean_radius': [radius_mean],\n",
    "                         'worst_perimeter': [perimeter_worst]})\n",
    "\n"
   ]
  },
  {
   "cell_type": "code",
   "execution_count": 28,
   "id": "2e3d68a3",
   "metadata": {},
   "outputs": [
    {
     "name": "stdout",
     "output_type": "stream",
     "text": [
      "The predicted diagnosis is: M\n"
     ]
    }
   ],
   "source": [
    "# Use the trained random forest classifier to predict the outcome\n",
    "y_pred = rfc.predict(new_data)\n",
    "\n",
    "print(\"The predicted diagnosis is:\", y_pred[0])\n"
   ]
  },
  {
   "cell_type": "code",
   "execution_count": null,
   "id": "09aaf5c9",
   "metadata": {},
   "outputs": [],
   "source": []
  },
  {
   "cell_type": "code",
   "execution_count": null,
   "id": "8789d389",
   "metadata": {},
   "outputs": [],
   "source": []
  },
  {
   "cell_type": "code",
   "execution_count": 25,
   "id": "36310529",
   "metadata": {},
   "outputs": [
    {
     "data": {
      "image/png": "[encoded data removed]",
      "text/plain": [
       "<Figure size 576x252 with 1 Axes>"
      ]
     },
     "metadata": {
      "needs_background": "light"
     },
     "output_type": "display_data"
    }
   ],
   "source": [
    "# Initialize SHAP explainer and get SHAP values for user input\n",
    "explainer = shap.TreeExplainer(rfc)\n",
    "shap_values = explainer.shap_values(new_data)\n",
    "\n",
    "# Create a summary plot of SHAP values\n",
    "shap.summary_plot(shap_values, new_data , plot_type='bar')"
   ]
  },
  {
   "cell_type": "code",
   "execution_count": null,
   "id": "f9b65d98",
   "metadata": {},
   "outputs": [],
   "source": []
  }
 ],
 "metadata": {
  "kernelspec": {
   "display_name": "Python 3",
   "language": "python",
   "name": "python3"
  },
  "language_info": {
   "codemirror_mode": {
    "name": "ipython",
    "version": 3
   },
   "file_extension": ".py",
   "mimetype": "text/x-python",
   "name": "python",
   "nbconvert_exporter": "python",
   "pygments_lexer": "ipython3",
   "version": "3.8.8"
  }
 },
 "nbformat": 4,
 "nbformat_minor": 5
}
